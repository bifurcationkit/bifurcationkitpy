{
 "cells": [
  {
   "cell_type": "code",
   "execution_count": 1,
   "metadata": {},
   "outputs": [
    {
     "name": "stderr",
     "output_type": "stream",
     "text": [
      "┌ Warning: The Pkg REPL mode is intended for interactive use only, and should not be used from scripts. It is recommended to use the functional API instead.\n",
      "└ @ Pkg.REPLMode ~/.julia/juliaup/julia-1.11.5+0.aarch64.apple.darwin14/share/julia/stdlib/v1.11/Pkg/src/REPLMode/REPLMode.jl:388\n",
      "  Activating project at `~/.julia/environments/scratch`\n"
     ]
    },
    {
     "name": "stdout",
     "output_type": "stream",
     "text": [
      "Detected IPython. Loading juliacall extension. See https://juliapy.github.io/PythonCall.jl/stable/compat/#IPython\n"
     ]
    },
    {
     "name": "stderr",
     "output_type": "stream",
     "text": [
      "  Activating project at `~/.julia/environments/bifurcationkitpy`\n"
     ]
    }
   ],
   "source": [
    "# use kernel 3.11.9\n",
    "from bifurcationkitpy import bk\n",
    "import numpy as np"
   ]
  },
  {
   "cell_type": "code",
   "execution_count": 2,
   "metadata": {},
   "outputs": [
    {
     "name": "stderr",
     "output_type": "stream",
     "text": [
      "  Activating project at `~/.julia/environments/bifurcationkitpy`\n"
     ]
    }
   ],
   "source": [
    "from juliacall import Main\n",
    "Main.seval(\"Pkg.activate(\\\"bifurcationkitpy\\\", shared=true)\")\n",
    "# Main.seval(\"Pkg.update()\")"
   ]
  },
  {
   "cell_type": "code",
   "execution_count": 4,
   "metadata": {},
   "outputs": [],
   "source": [
    "def F(u,p):\n",
    "    print(\"F1\")\n",
    "    x, = u\n",
    "    return np.array([p.mu + x - x**3/3,])\n",
    "\n",
    "def J(u,p):\n",
    "    print(\"J!!\")\n",
    "    x, = u\n",
    "    return np.array([[1 - x**2]])\n",
    "\n",
    "def record_from_solution(x,p):\n",
    "    return bk.seval(\"x->(x=x,)\")[x[0]]"
   ]
  },
  {
   "cell_type": "markdown",
   "metadata": {},
   "source": []
  },
  {
   "cell_type": "code",
   "execution_count": 5,
   "metadata": {},
   "outputs": [
    {
     "name": "stdout",
     "output_type": "stream",
     "text": [
      "┌─ Bifurcation Problem with uType PyList{Any}\n",
      "├─ Inplace:  false\n",
      "├─ Dimension:  1\n",
      "├─ Symmetric: false\n",
      "└─ Parameter: mu"
     ]
    }
   ],
   "source": [
    "u0 = [0.0]\n",
    "p = bk.seval(\"(mu = -1.,)\")\n",
    "p.mu\n",
    "\n",
    "bifprob = bk.BifurcationProblem(F, u0, p, bk.seval(\"(@optic _.mu)\"), \n",
    "                            #  record_from_solution = record_from_solution, \n",
    "                             J = J)\n",
    "bk.show(bifprob)"
   ]
  },
  {
   "cell_type": "code",
   "execution_count": 21,
   "metadata": {},
   "outputs": [
    {
     "name": "stdout",
     "output_type": "stream",
     "text": [
      "J!!\n"
     ]
    },
    {
     "data": {
      "text/plain": [
       "array([[1.]])"
      ]
     },
     "execution_count": 21,
     "metadata": {},
     "output_type": "execute_result"
    }
   ],
   "source": [
    "J(u0, p)"
   ]
  },
  {
   "cell_type": "code",
   "execution_count": 22,
   "metadata": {},
   "outputs": [
    {
     "name": "stdout",
     "output_type": "stream",
     "text": [
      "F1\n"
     ]
    },
    {
     "ename": "JuliaError",
     "evalue": "TypeError: non-boolean (Py) used in boolean context\nStacktrace:\n [1] _newton(prob::BifurcationKit.BifurcationProblem{BifurcationKit.BifFunction{Py, BifurcationKit.var\"#104#122\"{Py}, BifurcationKit.var\"#109#128\"{Py}, Nothing, Py, Nothing, BifurcationKit.var\"#107#125\"{Py}, BifurcationKit.var\"#111#130\"{BifurcationKit.var\"#d1Fad#126\"{Py}}, BifurcationKit.var\"#113#132\", BifurcationKit.var\"#115#134\", BifurcationKit.var\"#117#136\", Bool, Float64, BifurcationKit.Jet{Nothing, Nothing, Nothing, Nothing, Nothing, Nothing, Nothing, Nothing, Nothing, Nothing, Nothing, Nothing, Nothing, Nothing, Nothing, Nothing, Nothing, Nothing, Nothing, Nothing, Nothing, Nothing, Nothing, Nothing, Nothing, Nothing, Nothing, Nothing}}, PyList{Any}, @NamedTuple{mu::Float64}, Accessors.PropertyLens{:mu}, typeof(BifurcationKit.plot_default), typeof(BifurcationKit.record_sol_default), typeof(BifurcationKit.save_solution_default)}, x0::PyList{Any}, p0::@NamedTuple{mu::Float64}, options::BifurcationKit.NewtonPar{Float64, BifurcationKit.DefaultLS, BifurcationKit.DefaultEig{typeof(real)}}; normN::Py, callback::typeof(BifurcationKit.cb_default), kwargs::@Kwargs{})\n   @ BifurcationKit ~/.julia/packages/BifurcationKit/u04EE/src/Newton.jl:0\n [2] solve(prob::BifurcationKit.BifurcationProblem{BifurcationKit.BifFunction{Py, BifurcationKit.var\"#104#122\"{Py}, BifurcationKit.var\"#109#128\"{Py}, Nothing, Py, Nothing, BifurcationKit.var\"#107#125\"{Py}, BifurcationKit.var\"#111#130\"{BifurcationKit.var\"#d1Fad#126\"{Py}}, BifurcationKit.var\"#113#132\", BifurcationKit.var\"#115#134\", BifurcationKit.var\"#117#136\", Bool, Float64, BifurcationKit.Jet{Nothing, Nothing, Nothing, Nothing, Nothing, Nothing, Nothing, Nothing, Nothing, Nothing, Nothing, Nothing, Nothing, Nothing, Nothing, Nothing, Nothing, Nothing, Nothing, Nothing, Nothing, Nothing, Nothing, Nothing, Nothing, Nothing, Nothing, Nothing}}, PyList{Any}, @NamedTuple{mu::Float64}, Accessors.PropertyLens{:mu}, typeof(BifurcationKit.plot_default), typeof(BifurcationKit.record_sol_default), typeof(BifurcationKit.save_solution_default)}, ::BifurcationKit.Newton, options::BifurcationKit.NewtonPar{Float64, BifurcationKit.DefaultLS, BifurcationKit.DefaultEig{typeof(real)}}; kwargs::@Kwargs{normN::Py})\n   @ BifurcationKit ~/.julia/packages/BifurcationKit/u04EE/src/Newton.jl:149\n [3] pyjlany_call(self::typeof(BifurcationKit.solve), args_::Py, kwargs_::Py)\n   @ PythonCall.JlWrap ~/.julia/packages/PythonCall/S5MOg/src/JlWrap/any.jl:36\n [4] _pyjl_callmethod(f::Any, self_::Ptr{PythonCall.C.PyObject}, args_::Ptr{PythonCall.C.PyObject}, nargs::Int64)\n   @ PythonCall.JlWrap ~/.julia/packages/PythonCall/S5MOg/src/JlWrap/base.jl:72\n [5] _pyjl_callmethod(o::Ptr{PythonCall.C.PyObject}, args::Ptr{PythonCall.C.PyObject})\n   @ PythonCall.JlWrap.Cjl ~/.julia/packages/PythonCall/S5MOg/src/JlWrap/C.jl:63",
     "output_type": "error",
     "traceback": [
      "\u001b[0;31m---------------------------------------------------------------------------\u001b[0m",
      "\u001b[0;31mJuliaError\u001b[0m                                Traceback (most recent call last)",
      "Cell \u001b[0;32mIn[22], line 2\u001b[0m\n\u001b[1;32m      1\u001b[0m \u001b[38;5;66;03m# strange error. I passed the jacobian J to prob so that ForwardDiff is not used\u001b[39;00m\n\u001b[0;32m----> 2\u001b[0m sol \u001b[38;5;241m=\u001b[39m \u001b[43mbk\u001b[49m\u001b[38;5;241;43m.\u001b[39;49m\u001b[43msolve\u001b[49m\u001b[43m(\u001b[49m\u001b[43mbifprob\u001b[49m\u001b[43m,\u001b[49m\u001b[43m \u001b[49m\u001b[43mbk\u001b[49m\u001b[38;5;241;43m.\u001b[39;49m\u001b[43mNewton\u001b[49m\u001b[43m(\u001b[49m\u001b[43m)\u001b[49m\u001b[43m,\u001b[49m\u001b[43m \u001b[49m\u001b[43mbk\u001b[49m\u001b[38;5;241;43m.\u001b[39;49m\u001b[43mNewtonPar\u001b[49m\u001b[43m(\u001b[49m\u001b[43mverbose\u001b[49m\u001b[43m \u001b[49m\u001b[38;5;241;43m=\u001b[39;49m\u001b[43m \u001b[49m\u001b[38;5;28;43;01mFalse\u001b[39;49;00m\u001b[43m)\u001b[49m\u001b[43m,\u001b[49m\u001b[43m \u001b[49m\u001b[43mnormN\u001b[49m\u001b[43m \u001b[49m\u001b[38;5;241;43m=\u001b[39;49m\u001b[43m \u001b[49m\u001b[43mnp\u001b[49m\u001b[38;5;241;43m.\u001b[39;49m\u001b[43mlinalg\u001b[49m\u001b[38;5;241;43m.\u001b[39;49m\u001b[43mnorm\u001b[49m\u001b[43m)\u001b[49m\n",
      "File \u001b[0;32m~/.julia/packages/PythonCall/S5MOg/src/JlWrap/any.jl:223\u001b[0m, in \u001b[0;36m__call__\u001b[0;34m(self, *args, **kwargs)\u001b[0m\n\u001b[1;32m    221\u001b[0m     return ValueBase.__dir__(self) + self._jl_callmethod($(pyjl_methodnum(pyjlany_dir)))\n\u001b[1;32m    222\u001b[0m def __call__(self, *args, **kwargs):\n\u001b[0;32m--> 223\u001b[0m     return self._jl_callmethod($(pyjl_methodnum(pyjlany_call)), args, kwargs)\n\u001b[1;32m    224\u001b[0m def __bool__(self):\n\u001b[1;32m    225\u001b[0m     return True\n",
      "\u001b[0;31mJuliaError\u001b[0m: TypeError: non-boolean (Py) used in boolean context\nStacktrace:\n [1] _newton(prob::BifurcationKit.BifurcationProblem{BifurcationKit.BifFunction{Py, BifurcationKit.var\"#104#122\"{Py}, BifurcationKit.var\"#109#128\"{Py}, Nothing, Py, Nothing, BifurcationKit.var\"#107#125\"{Py}, BifurcationKit.var\"#111#130\"{BifurcationKit.var\"#d1Fad#126\"{Py}}, BifurcationKit.var\"#113#132\", BifurcationKit.var\"#115#134\", BifurcationKit.var\"#117#136\", Bool, Float64, BifurcationKit.Jet{Nothing, Nothing, Nothing, Nothing, Nothing, Nothing, Nothing, Nothing, Nothing, Nothing, Nothing, Nothing, Nothing, Nothing, Nothing, Nothing, Nothing, Nothing, Nothing, Nothing, Nothing, Nothing, Nothing, Nothing, Nothing, Nothing, Nothing, Nothing}}, PyList{Any}, @NamedTuple{mu::Float64}, Accessors.PropertyLens{:mu}, typeof(BifurcationKit.plot_default), typeof(BifurcationKit.record_sol_default), typeof(BifurcationKit.save_solution_default)}, x0::PyList{Any}, p0::@NamedTuple{mu::Float64}, options::BifurcationKit.NewtonPar{Float64, BifurcationKit.DefaultLS, BifurcationKit.DefaultEig{typeof(real)}}; normN::Py, callback::typeof(BifurcationKit.cb_default), kwargs::@Kwargs{})\n   @ BifurcationKit ~/.julia/packages/BifurcationKit/u04EE/src/Newton.jl:0\n [2] solve(prob::BifurcationKit.BifurcationProblem{BifurcationKit.BifFunction{Py, BifurcationKit.var\"#104#122\"{Py}, BifurcationKit.var\"#109#128\"{Py}, Nothing, Py, Nothing, BifurcationKit.var\"#107#125\"{Py}, BifurcationKit.var\"#111#130\"{BifurcationKit.var\"#d1Fad#126\"{Py}}, BifurcationKit.var\"#113#132\", BifurcationKit.var\"#115#134\", BifurcationKit.var\"#117#136\", Bool, Float64, BifurcationKit.Jet{Nothing, Nothing, Nothing, Nothing, Nothing, Nothing, Nothing, Nothing, Nothing, Nothing, Nothing, Nothing, Nothing, Nothing, Nothing, Nothing, Nothing, Nothing, Nothing, Nothing, Nothing, Nothing, Nothing, Nothing, Nothing, Nothing, Nothing, Nothing}}, PyList{Any}, @NamedTuple{mu::Float64}, Accessors.PropertyLens{:mu}, typeof(BifurcationKit.plot_default), typeof(BifurcationKit.record_sol_default), typeof(BifurcationKit.save_solution_default)}, ::BifurcationKit.Newton, options::BifurcationKit.NewtonPar{Float64, BifurcationKit.DefaultLS, BifurcationKit.DefaultEig{typeof(real)}}; kwargs::@Kwargs{normN::Py})\n   @ BifurcationKit ~/.julia/packages/BifurcationKit/u04EE/src/Newton.jl:149\n [3] pyjlany_call(self::typeof(BifurcationKit.solve), args_::Py, kwargs_::Py)\n   @ PythonCall.JlWrap ~/.julia/packages/PythonCall/S5MOg/src/JlWrap/any.jl:36\n [4] _pyjl_callmethod(f::Any, self_::Ptr{PythonCall.C.PyObject}, args_::Ptr{PythonCall.C.PyObject}, nargs::Int64)\n   @ PythonCall.JlWrap ~/.julia/packages/PythonCall/S5MOg/src/JlWrap/base.jl:72\n [5] _pyjl_callmethod(o::Ptr{PythonCall.C.PyObject}, args::Ptr{PythonCall.C.PyObject})\n   @ PythonCall.JlWrap.Cjl ~/.julia/packages/PythonCall/S5MOg/src/JlWrap/C.jl:63"
     ]
    }
   ],
   "source": [
    "# strange error. I passed the jacobian J to prob so that ForwardDiff is not used\n",
    "sol = bk.solve(bifprob, bk.Newton(), bk.NewtonPar(verbose = False), normN = np.linalg.norm)"
   ]
  },
  {
   "cell_type": "code",
   "execution_count": 20,
   "metadata": {},
   "outputs": [
    {
     "name": "stdout",
     "output_type": "stream",
     "text": [
      "━━━━━━━━━━━━━━━━━━━━━━━━━━━━━━━━━━━━━━━━━━━━━━━━━━━━━━\n",
      "────────────────── PALC ──────────────────\n",
      "\n",
      "F1\n"
     ]
    },
    {
     "ename": "JuliaError",
     "evalue": "TypeError: non-boolean (Py) used in boolean context\nStacktrace:\n [1] _newton(prob::BifurcationKit.BifurcationProblem{BifurcationKit.BifFunction{Py, BifurcationKit.var\"#104#122\"{Py}, BifurcationKit.var\"#109#128\"{Py}, Nothing, Py, Nothing, BifurcationKit.var\"#107#125\"{Py}, BifurcationKit.var\"#111#130\"{BifurcationKit.var\"#d1Fad#126\"{Py}}, BifurcationKit.var\"#113#132\", BifurcationKit.var\"#115#134\", BifurcationKit.var\"#117#136\", Bool, Float64, BifurcationKit.Jet{Nothing, Nothing, Nothing, Nothing, Nothing, Nothing, Nothing, Nothing, Nothing, Nothing, Nothing, Nothing, Nothing, Nothing, Nothing, Nothing, Nothing, Nothing, Nothing, Nothing, Nothing, Nothing, Nothing, Nothing, Nothing, Nothing, Nothing, Nothing}}, PyList{Any}, @NamedTuple{mu::Float64}, Accessors.PropertyLens{:mu}, typeof(BifurcationKit.plot_default), typeof(BifurcationKit.record_sol_default), typeof(BifurcationKit.save_solution_default)}, x0::PyList{Any}, p0::@NamedTuple{mu::Float64}, options::BifurcationKit.NewtonPar{Float64, BifurcationKit.DefaultLS, BifurcationKit.DefaultEig{typeof(real)}}; normN::Py, callback::typeof(BifurcationKit.cb_default), kwargs::@Kwargs{iterationC::Int64, p::Float64})\n   @ BifurcationKit ~/.julia/packages/BifurcationKit/u04EE/src/Newton.jl:0\n [2] solve(prob::BifurcationKit.BifurcationProblem{BifurcationKit.BifFunction{Py, BifurcationKit.var\"#104#122\"{Py}, BifurcationKit.var\"#109#128\"{Py}, Nothing, Py, Nothing, BifurcationKit.var\"#107#125\"{Py}, BifurcationKit.var\"#111#130\"{BifurcationKit.var\"#d1Fad#126\"{Py}}, BifurcationKit.var\"#113#132\", BifurcationKit.var\"#115#134\", BifurcationKit.var\"#117#136\", Bool, Float64, BifurcationKit.Jet{Nothing, Nothing, Nothing, Nothing, Nothing, Nothing, Nothing, Nothing, Nothing, Nothing, Nothing, Nothing, Nothing, Nothing, Nothing, Nothing, Nothing, Nothing, Nothing, Nothing, Nothing, Nothing, Nothing, Nothing, Nothing, Nothing, Nothing, Nothing}}, PyList{Any}, @NamedTuple{mu::Float64}, Accessors.PropertyLens{:mu}, typeof(BifurcationKit.plot_default), typeof(BifurcationKit.record_sol_default), typeof(BifurcationKit.save_solution_default)}, ::BifurcationKit.Newton, options::BifurcationKit.NewtonPar{Float64, BifurcationKit.DefaultLS, BifurcationKit.DefaultEig{typeof(real)}}; kwargs::@Kwargs{normN::Py, callback::typeof(BifurcationKit.cb_default), iterationC::Int64, p::Float64})\n   @ BifurcationKit ~/.julia/packages/BifurcationKit/u04EE/src/Newton.jl:149\n [3] iterate(it::BifurcationKit.ContIterable{BifurcationKit.EquilibriumCont, BifurcationKit.BifurcationProblem{BifurcationKit.BifFunction{Py, BifurcationKit.var\"#104#122\"{Py}, BifurcationKit.var\"#109#128\"{Py}, Nothing, Py, Nothing, BifurcationKit.var\"#107#125\"{Py}, BifurcationKit.var\"#111#130\"{BifurcationKit.var\"#d1Fad#126\"{Py}}, BifurcationKit.var\"#113#132\", BifurcationKit.var\"#115#134\", BifurcationKit.var\"#117#136\", Bool, Float64, BifurcationKit.Jet{Nothing, Nothing, Nothing, Nothing, Nothing, Nothing, Nothing, Nothing, Nothing, Nothing, Nothing, Nothing, Nothing, Nothing, Nothing, Nothing, Nothing, Nothing, Nothing, Nothing, Nothing, Nothing, Nothing, Nothing, Nothing, Nothing, Nothing, Nothing}}, PyList{Any}, @NamedTuple{mu::Float64}, Accessors.PropertyLens{:mu}, typeof(BifurcationKit.plot_default), typeof(BifurcationKit.record_sol_default), typeof(BifurcationKit.save_solution_default)}, BifurcationKit.PALC{BifurcationKit.Secant, BifurcationKit.MatrixBLS{BifurcationKit.DefaultLS}, Float64, BifurcationKit.DotTheta{BifurcationKit.var\"#414#416\", BifurcationKit.var\"#415#417\"}}, Float64, BifurcationKit.DefaultLS, BifurcationKit.DefaultEig{typeof(real)}, Py, typeof(BifurcationKit.finalise_default), typeof(BifurcationKit.cb_default), Nothing}; _verbosity::UInt8)\n   @ BifurcationKit ~/.julia/packages/BifurcationKit/u04EE/src/Continuation.jl:339\n [4] iterate(it::BifurcationKit.ContIterable{BifurcationKit.EquilibriumCont, BifurcationKit.BifurcationProblem{BifurcationKit.BifFunction{Py, BifurcationKit.var\"#104#122\"{Py}, BifurcationKit.var\"#109#128\"{Py}, Nothing, Py, Nothing, BifurcationKit.var\"#107#125\"{Py}, BifurcationKit.var\"#111#130\"{BifurcationKit.var\"#d1Fad#126\"{Py}}, BifurcationKit.var\"#113#132\", BifurcationKit.var\"#115#134\", BifurcationKit.var\"#117#136\", Bool, Float64, BifurcationKit.Jet{Nothing, Nothing, Nothing, Nothing, Nothing, Nothing, Nothing, Nothing, Nothing, Nothing, Nothing, Nothing, Nothing, Nothing, Nothing, Nothing, Nothing, Nothing, Nothing, Nothing, Nothing, Nothing, Nothing, Nothing, Nothing, Nothing, Nothing, Nothing}}, PyList{Any}, @NamedTuple{mu::Float64}, Accessors.PropertyLens{:mu}, typeof(BifurcationKit.plot_default), typeof(BifurcationKit.record_sol_default), typeof(BifurcationKit.save_solution_default)}, BifurcationKit.PALC{BifurcationKit.Secant, BifurcationKit.MatrixBLS{BifurcationKit.DefaultLS}, Float64, BifurcationKit.DotTheta{BifurcationKit.var\"#414#416\", BifurcationKit.var\"#415#417\"}}, Float64, BifurcationKit.DefaultLS, BifurcationKit.DefaultEig{typeof(real)}, Py, typeof(BifurcationKit.finalise_default), typeof(BifurcationKit.cb_default), Nothing})\n   @ BifurcationKit ~/.julia/packages/BifurcationKit/u04EE/src/Continuation.jl:319\n [5] continuation(it::BifurcationKit.ContIterable{BifurcationKit.EquilibriumCont, BifurcationKit.BifurcationProblem{BifurcationKit.BifFunction{Py, BifurcationKit.var\"#104#122\"{Py}, BifurcationKit.var\"#109#128\"{Py}, Nothing, Py, Nothing, BifurcationKit.var\"#107#125\"{Py}, BifurcationKit.var\"#111#130\"{BifurcationKit.var\"#d1Fad#126\"{Py}}, BifurcationKit.var\"#113#132\", BifurcationKit.var\"#115#134\", BifurcationKit.var\"#117#136\", Bool, Float64, BifurcationKit.Jet{Nothing, Nothing, Nothing, Nothing, Nothing, Nothing, Nothing, Nothing, Nothing, Nothing, Nothing, Nothing, Nothing, Nothing, Nothing, Nothing, Nothing, Nothing, Nothing, Nothing, Nothing, Nothing, Nothing, Nothing, Nothing, Nothing, Nothing, Nothing}}, PyList{Any}, @NamedTuple{mu::Float64}, Accessors.PropertyLens{:mu}, typeof(BifurcationKit.plot_default), typeof(BifurcationKit.record_sol_default), typeof(BifurcationKit.save_solution_default)}, BifurcationKit.PALC{BifurcationKit.Secant, BifurcationKit.MatrixBLS{BifurcationKit.DefaultLS}, Float64, BifurcationKit.DotTheta{BifurcationKit.var\"#414#416\", BifurcationKit.var\"#415#417\"}}, Float64, BifurcationKit.DefaultLS, BifurcationKit.DefaultEig{typeof(real)}, Py, typeof(BifurcationKit.finalise_default), typeof(BifurcationKit.cb_default), Nothing})\n   @ BifurcationKit ~/.julia/packages/BifurcationKit/u04EE/src/Continuation.jl:569\n [6] continuation(prob::BifurcationKit.BifurcationProblem{BifurcationKit.BifFunction{Py, BifurcationKit.var\"#104#122\"{Py}, BifurcationKit.var\"#109#128\"{Py}, Nothing, Py, Nothing, BifurcationKit.var\"#107#125\"{Py}, BifurcationKit.var\"#111#130\"{BifurcationKit.var\"#d1Fad#126\"{Py}}, BifurcationKit.var\"#113#132\", BifurcationKit.var\"#115#134\", BifurcationKit.var\"#117#136\", Bool, Float64, BifurcationKit.Jet{Nothing, Nothing, Nothing, Nothing, Nothing, Nothing, Nothing, Nothing, Nothing, Nothing, Nothing, Nothing, Nothing, Nothing, Nothing, Nothing, Nothing, Nothing, Nothing, Nothing, Nothing, Nothing, Nothing, Nothing, Nothing, Nothing, Nothing, Nothing}}, PyList{Any}, @NamedTuple{mu::Float64}, Accessors.PropertyLens{:mu}, typeof(BifurcationKit.plot_default), typeof(BifurcationKit.record_sol_default), typeof(BifurcationKit.save_solution_default)}, alg::BifurcationKit.PALC{BifurcationKit.Secant, BifurcationKit.MatrixBLS{Nothing}, Float64, BifurcationKit.DotTheta{BifurcationKit.var\"#414#416\", BifurcationKit.var\"#415#417\"}}, contparams::BifurcationKit.ContinuationPar{Float64, BifurcationKit.DefaultLS, BifurcationKit.DefaultEig{typeof(real)}}; linear_algo::Nothing, bothside::Bool, kwargs::@Kwargs{verbosity::Int64, normC::Py})\n   @ BifurcationKit ~/.julia/packages/BifurcationKit/u04EE/src/Continuation.jl:647\n [7] pyjlany_call(self::typeof(BifurcationKit.continuation), args_::Py, kwargs_::Py)\n   @ PythonCall.JlWrap ~/.julia/packages/PythonCall/S5MOg/src/JlWrap/any.jl:36\n [8] _pyjl_callmethod(f::Any, self_::Ptr{PythonCall.C.PyObject}, args_::Ptr{PythonCall.C.PyObject}, nargs::Int64)\n   @ PythonCall.JlWrap ~/.julia/packages/PythonCall/S5MOg/src/JlWrap/base.jl:72\n [9] _pyjl_callmethod(o::Ptr{PythonCall.C.PyObject}, args::Ptr{PythonCall.C.PyObject})\n   @ PythonCall.JlWrap.Cjl ~/.julia/packages/PythonCall/S5MOg/src/JlWrap/C.jl:63",
     "output_type": "error",
     "traceback": [
      "\u001b[0;31m---------------------------------------------------------------------------\u001b[0m",
      "\u001b[0;31mJuliaError\u001b[0m                                Traceback (most recent call last)",
      "Cell \u001b[0;32mIn[20], line 2\u001b[0m\n\u001b[1;32m      1\u001b[0m optn \u001b[38;5;241m=\u001b[39m bk\u001b[38;5;241m.\u001b[39mNewtonPar(verbose\u001b[38;5;241m=\u001b[39m\u001b[38;5;28;01mFalse\u001b[39;00m)\n\u001b[0;32m----> 2\u001b[0m br \u001b[38;5;241m=\u001b[39m \u001b[43mbk\u001b[49m\u001b[38;5;241;43m.\u001b[39;49m\u001b[43mcontinuation\u001b[49m\u001b[43m(\u001b[49m\u001b[43mbifprob\u001b[49m\u001b[43m,\u001b[49m\u001b[43m \u001b[49m\u001b[43mbk\u001b[49m\u001b[38;5;241;43m.\u001b[39;49m\u001b[43mPALC\u001b[49m\u001b[43m(\u001b[49m\u001b[43m)\u001b[49m\u001b[43m,\u001b[49m\u001b[43m \u001b[49m\u001b[43mbk\u001b[49m\u001b[38;5;241;43m.\u001b[39;49m\u001b[43mContinuationPar\u001b[49m\u001b[43m(\u001b[49m\u001b[43mp_min\u001b[49m\u001b[43m \u001b[49m\u001b[38;5;241;43m=\u001b[39;49m\u001b[43m \u001b[49m\u001b[38;5;241;43m-\u001b[39;49m\u001b[38;5;241;43m1.\u001b[39;49m\u001b[43m,\u001b[49m\u001b[43m \u001b[49m\u001b[43mp_max\u001b[49m\u001b[43m \u001b[49m\u001b[38;5;241;43m=\u001b[39;49m\u001b[43m \u001b[49m\u001b[38;5;241;43m1.\u001b[39;49m\u001b[43m,\u001b[49m\u001b[43m \u001b[49m\u001b[43mnewton_options\u001b[49m\u001b[43m \u001b[49m\u001b[38;5;241;43m=\u001b[39;49m\u001b[43m \u001b[49m\u001b[43moptn\u001b[49m\u001b[43m)\u001b[49m\u001b[43m,\u001b[49m\u001b[43m \u001b[49m\u001b[43mverbosity\u001b[49m\u001b[43m \u001b[49m\u001b[38;5;241;43m=\u001b[39;49m\u001b[43m \u001b[49m\u001b[38;5;241;43m1\u001b[39;49m\u001b[43m,\u001b[49m\u001b[43m \u001b[49m\u001b[43mnormC\u001b[49m\u001b[43m \u001b[49m\u001b[38;5;241;43m=\u001b[39;49m\u001b[43m \u001b[49m\u001b[43mnp\u001b[49m\u001b[38;5;241;43m.\u001b[39;49m\u001b[43mlinalg\u001b[49m\u001b[38;5;241;43m.\u001b[39;49m\u001b[43mnorm\u001b[49m\u001b[43m)\u001b[49m\n",
      "File \u001b[0;32m~/.julia/packages/PythonCall/S5MOg/src/JlWrap/any.jl:223\u001b[0m, in \u001b[0;36m__call__\u001b[0;34m(self, *args, **kwargs)\u001b[0m\n\u001b[1;32m    221\u001b[0m     return ValueBase.__dir__(self) + self._jl_callmethod($(pyjl_methodnum(pyjlany_dir)))\n\u001b[1;32m    222\u001b[0m def __call__(self, *args, **kwargs):\n\u001b[0;32m--> 223\u001b[0m     return self._jl_callmethod($(pyjl_methodnum(pyjlany_call)), args, kwargs)\n\u001b[1;32m    224\u001b[0m def __bool__(self):\n\u001b[1;32m    225\u001b[0m     return True\n",
      "\u001b[0;31mJuliaError\u001b[0m: TypeError: non-boolean (Py) used in boolean context\nStacktrace:\n [1] _newton(prob::BifurcationKit.BifurcationProblem{BifurcationKit.BifFunction{Py, BifurcationKit.var\"#104#122\"{Py}, BifurcationKit.var\"#109#128\"{Py}, Nothing, Py, Nothing, BifurcationKit.var\"#107#125\"{Py}, BifurcationKit.var\"#111#130\"{BifurcationKit.var\"#d1Fad#126\"{Py}}, BifurcationKit.var\"#113#132\", BifurcationKit.var\"#115#134\", BifurcationKit.var\"#117#136\", Bool, Float64, BifurcationKit.Jet{Nothing, Nothing, Nothing, Nothing, Nothing, Nothing, Nothing, Nothing, Nothing, Nothing, Nothing, Nothing, Nothing, Nothing, Nothing, Nothing, Nothing, Nothing, Nothing, Nothing, Nothing, Nothing, Nothing, Nothing, Nothing, Nothing, Nothing, Nothing}}, PyList{Any}, @NamedTuple{mu::Float64}, Accessors.PropertyLens{:mu}, typeof(BifurcationKit.plot_default), typeof(BifurcationKit.record_sol_default), typeof(BifurcationKit.save_solution_default)}, x0::PyList{Any}, p0::@NamedTuple{mu::Float64}, options::BifurcationKit.NewtonPar{Float64, BifurcationKit.DefaultLS, BifurcationKit.DefaultEig{typeof(real)}}; normN::Py, callback::typeof(BifurcationKit.cb_default), kwargs::@Kwargs{iterationC::Int64, p::Float64})\n   @ BifurcationKit ~/.julia/packages/BifurcationKit/u04EE/src/Newton.jl:0\n [2] solve(prob::BifurcationKit.BifurcationProblem{BifurcationKit.BifFunction{Py, BifurcationKit.var\"#104#122\"{Py}, BifurcationKit.var\"#109#128\"{Py}, Nothing, Py, Nothing, BifurcationKit.var\"#107#125\"{Py}, BifurcationKit.var\"#111#130\"{BifurcationKit.var\"#d1Fad#126\"{Py}}, BifurcationKit.var\"#113#132\", BifurcationKit.var\"#115#134\", BifurcationKit.var\"#117#136\", Bool, Float64, BifurcationKit.Jet{Nothing, Nothing, Nothing, Nothing, Nothing, Nothing, Nothing, Nothing, Nothing, Nothing, Nothing, Nothing, Nothing, Nothing, Nothing, Nothing, Nothing, Nothing, Nothing, Nothing, Nothing, Nothing, Nothing, Nothing, Nothing, Nothing, Nothing, Nothing}}, PyList{Any}, @NamedTuple{mu::Float64}, Accessors.PropertyLens{:mu}, typeof(BifurcationKit.plot_default), typeof(BifurcationKit.record_sol_default), typeof(BifurcationKit.save_solution_default)}, ::BifurcationKit.Newton, options::BifurcationKit.NewtonPar{Float64, BifurcationKit.DefaultLS, BifurcationKit.DefaultEig{typeof(real)}}; kwargs::@Kwargs{normN::Py, callback::typeof(BifurcationKit.cb_default), iterationC::Int64, p::Float64})\n   @ BifurcationKit ~/.julia/packages/BifurcationKit/u04EE/src/Newton.jl:149\n [3] iterate(it::BifurcationKit.ContIterable{BifurcationKit.EquilibriumCont, BifurcationKit.BifurcationProblem{BifurcationKit.BifFunction{Py, BifurcationKit.var\"#104#122\"{Py}, BifurcationKit.var\"#109#128\"{Py}, Nothing, Py, Nothing, BifurcationKit.var\"#107#125\"{Py}, BifurcationKit.var\"#111#130\"{BifurcationKit.var\"#d1Fad#126\"{Py}}, BifurcationKit.var\"#113#132\", BifurcationKit.var\"#115#134\", BifurcationKit.var\"#117#136\", Bool, Float64, BifurcationKit.Jet{Nothing, Nothing, Nothing, Nothing, Nothing, Nothing, Nothing, Nothing, Nothing, Nothing, Nothing, Nothing, Nothing, Nothing, Nothing, Nothing, Nothing, Nothing, Nothing, Nothing, Nothing, Nothing, Nothing, Nothing, Nothing, Nothing, Nothing, Nothing}}, PyList{Any}, @NamedTuple{mu::Float64}, Accessors.PropertyLens{:mu}, typeof(BifurcationKit.plot_default), typeof(BifurcationKit.record_sol_default), typeof(BifurcationKit.save_solution_default)}, BifurcationKit.PALC{BifurcationKit.Secant, BifurcationKit.MatrixBLS{BifurcationKit.DefaultLS}, Float64, BifurcationKit.DotTheta{BifurcationKit.var\"#414#416\", BifurcationKit.var\"#415#417\"}}, Float64, BifurcationKit.DefaultLS, BifurcationKit.DefaultEig{typeof(real)}, Py, typeof(BifurcationKit.finalise_default), typeof(BifurcationKit.cb_default), Nothing}; _verbosity::UInt8)\n   @ BifurcationKit ~/.julia/packages/BifurcationKit/u04EE/src/Continuation.jl:339\n [4] iterate(it::BifurcationKit.ContIterable{BifurcationKit.EquilibriumCont, BifurcationKit.BifurcationProblem{BifurcationKit.BifFunction{Py, BifurcationKit.var\"#104#122\"{Py}, BifurcationKit.var\"#109#128\"{Py}, Nothing, Py, Nothing, BifurcationKit.var\"#107#125\"{Py}, BifurcationKit.var\"#111#130\"{BifurcationKit.var\"#d1Fad#126\"{Py}}, BifurcationKit.var\"#113#132\", BifurcationKit.var\"#115#134\", BifurcationKit.var\"#117#136\", Bool, Float64, BifurcationKit.Jet{Nothing, Nothing, Nothing, Nothing, Nothing, Nothing, Nothing, Nothing, Nothing, Nothing, Nothing, Nothing, Nothing, Nothing, Nothing, Nothing, Nothing, Nothing, Nothing, Nothing, Nothing, Nothing, Nothing, Nothing, Nothing, Nothing, Nothing, Nothing}}, PyList{Any}, @NamedTuple{mu::Float64}, Accessors.PropertyLens{:mu}, typeof(BifurcationKit.plot_default), typeof(BifurcationKit.record_sol_default), typeof(BifurcationKit.save_solution_default)}, BifurcationKit.PALC{BifurcationKit.Secant, BifurcationKit.MatrixBLS{BifurcationKit.DefaultLS}, Float64, BifurcationKit.DotTheta{BifurcationKit.var\"#414#416\", BifurcationKit.var\"#415#417\"}}, Float64, BifurcationKit.DefaultLS, BifurcationKit.DefaultEig{typeof(real)}, Py, typeof(BifurcationKit.finalise_default), typeof(BifurcationKit.cb_default), Nothing})\n   @ BifurcationKit ~/.julia/packages/BifurcationKit/u04EE/src/Continuation.jl:319\n [5] continuation(it::BifurcationKit.ContIterable{BifurcationKit.EquilibriumCont, BifurcationKit.BifurcationProblem{BifurcationKit.BifFunction{Py, BifurcationKit.var\"#104#122\"{Py}, BifurcationKit.var\"#109#128\"{Py}, Nothing, Py, Nothing, BifurcationKit.var\"#107#125\"{Py}, BifurcationKit.var\"#111#130\"{BifurcationKit.var\"#d1Fad#126\"{Py}}, BifurcationKit.var\"#113#132\", BifurcationKit.var\"#115#134\", BifurcationKit.var\"#117#136\", Bool, Float64, BifurcationKit.Jet{Nothing, Nothing, Nothing, Nothing, Nothing, Nothing, Nothing, Nothing, Nothing, Nothing, Nothing, Nothing, Nothing, Nothing, Nothing, Nothing, Nothing, Nothing, Nothing, Nothing, Nothing, Nothing, Nothing, Nothing, Nothing, Nothing, Nothing, Nothing}}, PyList{Any}, @NamedTuple{mu::Float64}, Accessors.PropertyLens{:mu}, typeof(BifurcationKit.plot_default), typeof(BifurcationKit.record_sol_default), typeof(BifurcationKit.save_solution_default)}, BifurcationKit.PALC{BifurcationKit.Secant, BifurcationKit.MatrixBLS{BifurcationKit.DefaultLS}, Float64, BifurcationKit.DotTheta{BifurcationKit.var\"#414#416\", BifurcationKit.var\"#415#417\"}}, Float64, BifurcationKit.DefaultLS, BifurcationKit.DefaultEig{typeof(real)}, Py, typeof(BifurcationKit.finalise_default), typeof(BifurcationKit.cb_default), Nothing})\n   @ BifurcationKit ~/.julia/packages/BifurcationKit/u04EE/src/Continuation.jl:569\n [6] continuation(prob::BifurcationKit.BifurcationProblem{BifurcationKit.BifFunction{Py, BifurcationKit.var\"#104#122\"{Py}, BifurcationKit.var\"#109#128\"{Py}, Nothing, Py, Nothing, BifurcationKit.var\"#107#125\"{Py}, BifurcationKit.var\"#111#130\"{BifurcationKit.var\"#d1Fad#126\"{Py}}, BifurcationKit.var\"#113#132\", BifurcationKit.var\"#115#134\", BifurcationKit.var\"#117#136\", Bool, Float64, BifurcationKit.Jet{Nothing, Nothing, Nothing, Nothing, Nothing, Nothing, Nothing, Nothing, Nothing, Nothing, Nothing, Nothing, Nothing, Nothing, Nothing, Nothing, Nothing, Nothing, Nothing, Nothing, Nothing, Nothing, Nothing, Nothing, Nothing, Nothing, Nothing, Nothing}}, PyList{Any}, @NamedTuple{mu::Float64}, Accessors.PropertyLens{:mu}, typeof(BifurcationKit.plot_default), typeof(BifurcationKit.record_sol_default), typeof(BifurcationKit.save_solution_default)}, alg::BifurcationKit.PALC{BifurcationKit.Secant, BifurcationKit.MatrixBLS{Nothing}, Float64, BifurcationKit.DotTheta{BifurcationKit.var\"#414#416\", BifurcationKit.var\"#415#417\"}}, contparams::BifurcationKit.ContinuationPar{Float64, BifurcationKit.DefaultLS, BifurcationKit.DefaultEig{typeof(real)}}; linear_algo::Nothing, bothside::Bool, kwargs::@Kwargs{verbosity::Int64, normC::Py})\n   @ BifurcationKit ~/.julia/packages/BifurcationKit/u04EE/src/Continuation.jl:647\n [7] pyjlany_call(self::typeof(BifurcationKit.continuation), args_::Py, kwargs_::Py)\n   @ PythonCall.JlWrap ~/.julia/packages/PythonCall/S5MOg/src/JlWrap/any.jl:36\n [8] _pyjl_callmethod(f::Any, self_::Ptr{PythonCall.C.PyObject}, args_::Ptr{PythonCall.C.PyObject}, nargs::Int64)\n   @ PythonCall.JlWrap ~/.julia/packages/PythonCall/S5MOg/src/JlWrap/base.jl:72\n [9] _pyjl_callmethod(o::Ptr{PythonCall.C.PyObject}, args::Ptr{PythonCall.C.PyObject})\n   @ PythonCall.JlWrap.Cjl ~/.julia/packages/PythonCall/S5MOg/src/JlWrap/C.jl:63"
     ]
    },
    {
     "name": "stdout",
     "output_type": "stream",
     "text": [
      "━━━━━━━━━━━━━━━━━━  INITIAL GUESS   ━━━━━━━━━━━━━━━━━━"
     ]
    }
   ],
   "source": [
    "optn = bk.NewtonPar(verbose=False)\n",
    "br = bk.continuation(bifprob, bk.PALC(), bk.ContinuationPar(p_min = -1., p_max = 1., newton_options = optn), verbosity = 1, normC = np.linalg.norm)"
   ]
  },
  {
   "cell_type": "code",
   "execution_count": null,
   "metadata": {},
   "outputs": [],
   "source": []
  }
 ],
 "metadata": {
  "kernelspec": {
   "display_name": "Python 3",
   "language": "python",
   "name": "python3"
  },
  "language_info": {
   "codemirror_mode": {
    "name": "ipython",
    "version": 3
   },
   "file_extension": ".py",
   "mimetype": "text/x-python",
   "name": "python",
   "nbconvert_exporter": "python",
   "pygments_lexer": "ipython3",
   "version": "3.11.11"
  }
 },
 "nbformat": 4,
 "nbformat_minor": 2
}
